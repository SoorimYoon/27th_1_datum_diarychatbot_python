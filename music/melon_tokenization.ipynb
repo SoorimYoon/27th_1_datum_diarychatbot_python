{
  "nbformat": 4,
  "nbformat_minor": 0,
  "metadata": {
    "colab": {
      "name": "melon_tokenization",
      "provenance": [],
      "collapsed_sections": []
    },
    "kernelspec": {
      "name": "python3",
      "display_name": "Python 3"
    },
    "language_info": {
      "name": "python"
    }
  },
  "cells": [
    {
      "cell_type": "code",
      "source": [
        "import pandas as pd\n",
        "import numpy as np\n",
        "import sklearn\n",
        "from sklearn.linear_model import LogisticRegression\n",
        "from sklearn.feature_extraction.text import CountVectorizer\n",
        "from tqdm import tqdm\n",
        "\n",
        "from sklearn.model_selection import train_test_split\n",
        "from sklearn.metrics import accuracy_score"
      ],
      "metadata": {
        "id": "11ikflQnAy4f"
      },
      "execution_count": null,
      "outputs": []
    },
    {
      "cell_type": "code",
      "source": [
        "from google.colab import drive\n",
        "drive.mount('/content/drive')"
      ],
      "metadata": {
        "colab": {
          "base_uri": "https://localhost:8080/"
        },
        "id": "o099XbJEAeCc",
        "outputId": "7b00a873-3582-4649-e1c2-fc417e85a926"
      },
      "execution_count": null,
      "outputs": [
        {
          "output_type": "stream",
          "name": "stdout",
          "text": [
            "Mounted at /content/drive\n"
          ]
        }
      ]
    },
    {
      "cell_type": "code",
      "source": [
        "df = pd.read_csv(\"/content/drive/Shareddrives/솔룩스 데이텀/meloncrawling.csv\")\n",
        "df"
      ],
      "metadata": {
        "colab": {
          "base_uri": "https://localhost:8080/",
          "height": 424
        },
        "id": "DQrxWzPsD3Ji",
        "outputId": "9c9ebe7a-47f3-487c-acde-60212a625dd2"
      },
      "execution_count": null,
      "outputs": [
        {
          "output_type": "execute_result",
          "data": {
            "text/plain": [
              "         0                                1             2  \\\n",
              "0     2010               Bad Girl Good Girl          미쓰에이   \n",
              "1     2010                잔소리 (With 2AM 슬옹)           아이유   \n",
              "2     2010            죽을 만큼 아파서 (Feat. 멜로우)           MC몽   \n",
              "3     2010                     못해 (Feat. 美)     포맨 (4MEN)   \n",
              "4     2010                         죽어도 못 보내           2am   \n",
              "...    ...                              ...           ...   \n",
              "1176  2021              함께 했는데 이별은 나 혼자인 거야           이소정   \n",
              "1177  2021                  비가 오는 날엔 (2021)   헤이즈 (Heize)   \n",
              "1178  2021                              살다가        SG 워너비   \n",
              "1179  2021                     별빛 같은 나의 사랑아           임영웅   \n",
              "1180  2021  CREDIT (Feat. 염따, 기리보이, Zion.T)  릴보이 (lIlBOI)   \n",
              "\n",
              "                                                      3  \n",
              "0     You don't know me\\n\\nYou don't know me\\n\\nYou ...  \n",
              "1     늦게 다니지좀 마\\n\\n술은 멀리좀 해봐\\n\\n열살짜리 애처럼 말을 안듣니\\n\\n정...  \n",
              "2     I found the way to\\nlet you leave\\nI never rea...  \n",
              "3     이제는 밥을 먹어도\\n눈물없이는 삼키지 못해\\n억지로 먹고 먹어도 속이 늘 허전해\\...  \n",
              "4     어려도 아픈건 똑같아\\n세상을 잘 모른다고\\n아픈걸 모르진 않아\\n괜찮아 질거라고 ...  \n",
              "...                                                 ...  \n",
              "1176  이젠 누군갈 만나는 게 난\\n아직은 힘이 들것 같아\\n다시는 믿고 싶지 않아\\n왜 ...  \n",
              "1177  세상이 어두워지고\\n조용히 비가 내리면\\n여전히 그대로\\n오늘도 어김없이 난\\n벗어...  \n",
              "1178  살아도 사는 게 아니래\\n너 없는 하늘에\\n창 없는 감옥 같아서\\n웃어도 웃는 게 ...  \n",
              "1179  당신이 얼마나 내게\\n소중한 사람인지\\n세월이 흐르고 보니\\n이제 알 것 같아요\\n...  \n",
              "1180  요즘 들어 바쁘게 시간을 보냈지\\n아끼던 내 신발 색이 바랬으니\\n불과 몇 달 만에...  \n",
              "\n",
              "[1181 rows x 4 columns]"
            ],
            "text/html": [
              "\n",
              "  <div id=\"df-e0d42c01-313c-4f30-b673-43703e198c9d\">\n",
              "    <div class=\"colab-df-container\">\n",
              "      <div>\n",
              "<style scoped>\n",
              "    .dataframe tbody tr th:only-of-type {\n",
              "        vertical-align: middle;\n",
              "    }\n",
              "\n",
              "    .dataframe tbody tr th {\n",
              "        vertical-align: top;\n",
              "    }\n",
              "\n",
              "    .dataframe thead th {\n",
              "        text-align: right;\n",
              "    }\n",
              "</style>\n",
              "<table border=\"1\" class=\"dataframe\">\n",
              "  <thead>\n",
              "    <tr style=\"text-align: right;\">\n",
              "      <th></th>\n",
              "      <th>0</th>\n",
              "      <th>1</th>\n",
              "      <th>2</th>\n",
              "      <th>3</th>\n",
              "    </tr>\n",
              "  </thead>\n",
              "  <tbody>\n",
              "    <tr>\n",
              "      <th>0</th>\n",
              "      <td>2010</td>\n",
              "      <td>Bad Girl Good Girl</td>\n",
              "      <td>미쓰에이</td>\n",
              "      <td>You don't know me\\n\\nYou don't know me\\n\\nYou ...</td>\n",
              "    </tr>\n",
              "    <tr>\n",
              "      <th>1</th>\n",
              "      <td>2010</td>\n",
              "      <td>잔소리 (With 2AM 슬옹)</td>\n",
              "      <td>아이유</td>\n",
              "      <td>늦게 다니지좀 마\\n\\n술은 멀리좀 해봐\\n\\n열살짜리 애처럼 말을 안듣니\\n\\n정...</td>\n",
              "    </tr>\n",
              "    <tr>\n",
              "      <th>2</th>\n",
              "      <td>2010</td>\n",
              "      <td>죽을 만큼 아파서 (Feat. 멜로우)</td>\n",
              "      <td>MC몽</td>\n",
              "      <td>I found the way to\\nlet you leave\\nI never rea...</td>\n",
              "    </tr>\n",
              "    <tr>\n",
              "      <th>3</th>\n",
              "      <td>2010</td>\n",
              "      <td>못해 (Feat. 美)</td>\n",
              "      <td>포맨 (4MEN)</td>\n",
              "      <td>이제는 밥을 먹어도\\n눈물없이는 삼키지 못해\\n억지로 먹고 먹어도 속이 늘 허전해\\...</td>\n",
              "    </tr>\n",
              "    <tr>\n",
              "      <th>4</th>\n",
              "      <td>2010</td>\n",
              "      <td>죽어도 못 보내</td>\n",
              "      <td>2am</td>\n",
              "      <td>어려도 아픈건 똑같아\\n세상을 잘 모른다고\\n아픈걸 모르진 않아\\n괜찮아 질거라고 ...</td>\n",
              "    </tr>\n",
              "    <tr>\n",
              "      <th>...</th>\n",
              "      <td>...</td>\n",
              "      <td>...</td>\n",
              "      <td>...</td>\n",
              "      <td>...</td>\n",
              "    </tr>\n",
              "    <tr>\n",
              "      <th>1176</th>\n",
              "      <td>2021</td>\n",
              "      <td>함께 했는데 이별은 나 혼자인 거야</td>\n",
              "      <td>이소정</td>\n",
              "      <td>이젠 누군갈 만나는 게 난\\n아직은 힘이 들것 같아\\n다시는 믿고 싶지 않아\\n왜 ...</td>\n",
              "    </tr>\n",
              "    <tr>\n",
              "      <th>1177</th>\n",
              "      <td>2021</td>\n",
              "      <td>비가 오는 날엔 (2021)</td>\n",
              "      <td>헤이즈 (Heize)</td>\n",
              "      <td>세상이 어두워지고\\n조용히 비가 내리면\\n여전히 그대로\\n오늘도 어김없이 난\\n벗어...</td>\n",
              "    </tr>\n",
              "    <tr>\n",
              "      <th>1178</th>\n",
              "      <td>2021</td>\n",
              "      <td>살다가</td>\n",
              "      <td>SG 워너비</td>\n",
              "      <td>살아도 사는 게 아니래\\n너 없는 하늘에\\n창 없는 감옥 같아서\\n웃어도 웃는 게 ...</td>\n",
              "    </tr>\n",
              "    <tr>\n",
              "      <th>1179</th>\n",
              "      <td>2021</td>\n",
              "      <td>별빛 같은 나의 사랑아</td>\n",
              "      <td>임영웅</td>\n",
              "      <td>당신이 얼마나 내게\\n소중한 사람인지\\n세월이 흐르고 보니\\n이제 알 것 같아요\\n...</td>\n",
              "    </tr>\n",
              "    <tr>\n",
              "      <th>1180</th>\n",
              "      <td>2021</td>\n",
              "      <td>CREDIT (Feat. 염따, 기리보이, Zion.T)</td>\n",
              "      <td>릴보이 (lIlBOI)</td>\n",
              "      <td>요즘 들어 바쁘게 시간을 보냈지\\n아끼던 내 신발 색이 바랬으니\\n불과 몇 달 만에...</td>\n",
              "    </tr>\n",
              "  </tbody>\n",
              "</table>\n",
              "<p>1181 rows × 4 columns</p>\n",
              "</div>\n",
              "      <button class=\"colab-df-convert\" onclick=\"convertToInteractive('df-e0d42c01-313c-4f30-b673-43703e198c9d')\"\n",
              "              title=\"Convert this dataframe to an interactive table.\"\n",
              "              style=\"display:none;\">\n",
              "        \n",
              "  <svg xmlns=\"http://www.w3.org/2000/svg\" height=\"24px\"viewBox=\"0 0 24 24\"\n",
              "       width=\"24px\">\n",
              "    <path d=\"M0 0h24v24H0V0z\" fill=\"none\"/>\n",
              "    <path d=\"M18.56 5.44l.94 2.06.94-2.06 2.06-.94-2.06-.94-.94-2.06-.94 2.06-2.06.94zm-11 1L8.5 8.5l.94-2.06 2.06-.94-2.06-.94L8.5 2.5l-.94 2.06-2.06.94zm10 10l.94 2.06.94-2.06 2.06-.94-2.06-.94-.94-2.06-.94 2.06-2.06.94z\"/><path d=\"M17.41 7.96l-1.37-1.37c-.4-.4-.92-.59-1.43-.59-.52 0-1.04.2-1.43.59L10.3 9.45l-7.72 7.72c-.78.78-.78 2.05 0 2.83L4 21.41c.39.39.9.59 1.41.59.51 0 1.02-.2 1.41-.59l7.78-7.78 2.81-2.81c.8-.78.8-2.07 0-2.86zM5.41 20L4 18.59l7.72-7.72 1.47 1.35L5.41 20z\"/>\n",
              "  </svg>\n",
              "      </button>\n",
              "      \n",
              "  <style>\n",
              "    .colab-df-container {\n",
              "      display:flex;\n",
              "      flex-wrap:wrap;\n",
              "      gap: 12px;\n",
              "    }\n",
              "\n",
              "    .colab-df-convert {\n",
              "      background-color: #E8F0FE;\n",
              "      border: none;\n",
              "      border-radius: 50%;\n",
              "      cursor: pointer;\n",
              "      display: none;\n",
              "      fill: #1967D2;\n",
              "      height: 32px;\n",
              "      padding: 0 0 0 0;\n",
              "      width: 32px;\n",
              "    }\n",
              "\n",
              "    .colab-df-convert:hover {\n",
              "      background-color: #E2EBFA;\n",
              "      box-shadow: 0px 1px 2px rgba(60, 64, 67, 0.3), 0px 1px 3px 1px rgba(60, 64, 67, 0.15);\n",
              "      fill: #174EA6;\n",
              "    }\n",
              "\n",
              "    [theme=dark] .colab-df-convert {\n",
              "      background-color: #3B4455;\n",
              "      fill: #D2E3FC;\n",
              "    }\n",
              "\n",
              "    [theme=dark] .colab-df-convert:hover {\n",
              "      background-color: #434B5C;\n",
              "      box-shadow: 0px 1px 3px 1px rgba(0, 0, 0, 0.15);\n",
              "      filter: drop-shadow(0px 1px 2px rgba(0, 0, 0, 0.3));\n",
              "      fill: #FFFFFF;\n",
              "    }\n",
              "  </style>\n",
              "\n",
              "      <script>\n",
              "        const buttonEl =\n",
              "          document.querySelector('#df-e0d42c01-313c-4f30-b673-43703e198c9d button.colab-df-convert');\n",
              "        buttonEl.style.display =\n",
              "          google.colab.kernel.accessAllowed ? 'block' : 'none';\n",
              "\n",
              "        async function convertToInteractive(key) {\n",
              "          const element = document.querySelector('#df-e0d42c01-313c-4f30-b673-43703e198c9d');\n",
              "          const dataTable =\n",
              "            await google.colab.kernel.invokeFunction('convertToInteractive',\n",
              "                                                     [key], {});\n",
              "          if (!dataTable) return;\n",
              "\n",
              "          const docLinkHtml = 'Like what you see? Visit the ' +\n",
              "            '<a target=\"_blank\" href=https://colab.research.google.com/notebooks/data_table.ipynb>data table notebook</a>'\n",
              "            + ' to learn more about interactive tables.';\n",
              "          element.innerHTML = '';\n",
              "          dataTable['output_type'] = 'display_data';\n",
              "          await google.colab.output.renderOutput(dataTable, element);\n",
              "          const docLink = document.createElement('div');\n",
              "          docLink.innerHTML = docLinkHtml;\n",
              "          element.appendChild(docLink);\n",
              "        }\n",
              "      </script>\n",
              "    </div>\n",
              "  </div>\n",
              "  "
            ]
          },
          "metadata": {},
          "execution_count": 3
        }
      ]
    },
    {
      "cell_type": "markdown",
      "source": [
        "가사에서 영어 제거"
      ],
      "metadata": {
        "id": "UkeUvAdj7stv"
      }
    },
    {
      "cell_type": "code",
      "source": [
        "import re\n",
        "\n",
        "# 한글과 띄어쓰기만 남기고 제거해주는 함수 test\n",
        "def test(s):\n",
        "    hangul = re.compile('[^ ㄱ-ㅣ가-힣+]') # 한글과 띄어쓰기를 제외한 모든 글자\n",
        "    # hangul = re.compile('[^ \\u3131-\\u3163\\uac00-\\ud7a3]+')  # 위와 동일\n",
        "    result = hangul.sub('', s) # 한글과 띄어쓰기를 제외한 모든 부분을 제거\n",
        "    return(result)"
      ],
      "metadata": {
        "id": "Lh0HiDA92br7"
      },
      "execution_count": null,
      "outputs": []
    },
    {
      "cell_type": "markdown",
      "source": [
        "한글 가사 토큰화"
      ],
      "metadata": {
        "id": "zrZ0MuPu7u-I"
      }
    },
    {
      "cell_type": "code",
      "source": [
        "!pip install konlpy"
      ],
      "metadata": {
        "colab": {
          "base_uri": "https://localhost:8080/"
        },
        "id": "SRtwkPLXdMDe",
        "outputId": "e1d47348-08b2-4a74-81cd-10a63c504fc7"
      },
      "execution_count": null,
      "outputs": [
        {
          "output_type": "stream",
          "name": "stdout",
          "text": [
            "Looking in indexes: https://pypi.org/simple, https://us-python.pkg.dev/colab-wheels/public/simple/\n",
            "Collecting konlpy\n",
            "  Downloading konlpy-0.6.0-py2.py3-none-any.whl (19.4 MB)\n",
            "\u001b[K     |████████████████████████████████| 19.4 MB 1.3 MB/s \n",
            "\u001b[?25hRequirement already satisfied: lxml>=4.1.0 in /usr/local/lib/python3.7/dist-packages (from konlpy) (4.9.1)\n",
            "Collecting JPype1>=0.7.0\n",
            "  Downloading JPype1-1.4.0-cp37-cp37m-manylinux_2_5_x86_64.manylinux1_x86_64.whl (453 kB)\n",
            "\u001b[K     |████████████████████████████████| 453 kB 48.3 MB/s \n",
            "\u001b[?25hRequirement already satisfied: numpy>=1.6 in /usr/local/lib/python3.7/dist-packages (from konlpy) (1.21.6)\n",
            "Requirement already satisfied: typing-extensions in /usr/local/lib/python3.7/dist-packages (from JPype1>=0.7.0->konlpy) (4.1.1)\n",
            "Installing collected packages: JPype1, konlpy\n",
            "Successfully installed JPype1-1.4.0 konlpy-0.6.0\n"
          ]
        }
      ]
    },
    {
      "cell_type": "code",
      "source": [
        "from konlpy.tag import Kkma, Okt"
      ],
      "metadata": {
        "id": "bXR1JFIJloze"
      },
      "execution_count": null,
      "outputs": []
    },
    {
      "cell_type": "code",
      "source": [
        "okt = Okt()"
      ],
      "metadata": {
        "id": "SuzQ_UoO0Izs"
      },
      "execution_count": null,
      "outputs": []
    },
    {
      "cell_type": "code",
      "source": [
        "def tokenization(korean_lyrics):\n",
        "  lyric_final = [] # 토큰화된 최종 가사를 저장할 리스트\n",
        "  for lyric in korean_lyrics:\n",
        "    stem_pos_results = okt.pos(lyric, stem =True)\n",
        "\n",
        "    lst = []\n",
        "    for a, b in stem_pos_results:\n",
        "      if b == 'Noun' or b == 'VerbPrefix' or b == 'Adjective':\n",
        "        lst.append(a) # 해당되는 품사의 단어만 리스트에 저장\n",
        "    lyric_final += lst\n",
        "  return lyric_final"
      ],
      "metadata": {
        "id": "VjBsPp2ZZEcI"
      },
      "execution_count": null,
      "outputs": []
    },
    {
      "cell_type": "code",
      "source": [
        "final = []"
      ],
      "metadata": {
        "id": "gor7kZ8Pioi7"
      },
      "execution_count": null,
      "outputs": []
    },
    {
      "cell_type": "code",
      "source": [
        "for n in tqdm(range(len(df['3']))): #len(df['3']) = 1181\n",
        "  sentence = df['3'][n]\n",
        "  sentences = sentence.splitlines()\n",
        "\n",
        "  korean_lyrics = []\n",
        "\n",
        "  for sent in sentences:\n",
        "    korean_lyric = test(sent)\n",
        "    korean_lyric = korean_lyric.strip()\n",
        "    if korean_lyric == '':\n",
        "      continue\n",
        "    korean_lyrics.append(korean_lyric) # korean_lyrics 리스트에 한글 가사만 저장\n",
        "\n",
        "  make_set = set(korean_lyrics)\n",
        "  korean_lyrics = list(make_set) # 중복되는 부분 제거\n",
        "  \n",
        "  final.append(tokenization(korean_lyrics)) # 토큰화하여 final 리스트에 저장"
      ],
      "metadata": {
        "colab": {
          "base_uri": "https://localhost:8080/"
        },
        "id": "iOVDRhO45jnl",
        "outputId": "13b91335-a76f-4b63-cac7-b432d83dc678"
      },
      "execution_count": null,
      "outputs": [
        {
          "output_type": "stream",
          "name": "stderr",
          "text": [
            "100%|██████████| 1181/1181 [00:48<00:00, 24.16it/s]\n"
          ]
        }
      ]
    },
    {
      "cell_type": "markdown",
      "source": [
        "제목, 가수, 토큰화 결과 합치기"
      ],
      "metadata": {
        "id": "2bIu71P-v1_t"
      }
    },
    {
      "cell_type": "code",
      "source": [
        "df_song = df['1']\n",
        "df_song"
      ],
      "metadata": {
        "colab": {
          "base_uri": "https://localhost:8080/"
        },
        "id": "RE8POVHmubOo",
        "outputId": "e3979a8c-aaf1-4358-a6b3-fd2051abdaf7"
      },
      "execution_count": null,
      "outputs": [
        {
          "output_type": "execute_result",
          "data": {
            "text/plain": [
              "0                    Bad Girl Good Girl\n",
              "1                     잔소리 (With 2AM 슬옹)\n",
              "2                 죽을 만큼 아파서 (Feat. 멜로우)\n",
              "3                          못해 (Feat. 美)\n",
              "4                              죽어도 못 보내\n",
              "                     ...               \n",
              "1176                함께 했는데 이별은 나 혼자인 거야\n",
              "1177                    비가 오는 날엔 (2021)\n",
              "1178                                살다가\n",
              "1179                       별빛 같은 나의 사랑아\n",
              "1180    CREDIT (Feat. 염따, 기리보이, Zion.T)\n",
              "Name: 1, Length: 1181, dtype: object"
            ]
          },
          "metadata": {},
          "execution_count": 33
        }
      ]
    },
    {
      "cell_type": "code",
      "source": [
        "df_singer = df['2']\n",
        "df_singer"
      ],
      "metadata": {
        "colab": {
          "base_uri": "https://localhost:8080/"
        },
        "id": "2uQ2uNwIwpEv",
        "outputId": "681b6f99-ce23-47e1-bae5-a014d4ab53bf"
      },
      "execution_count": null,
      "outputs": [
        {
          "output_type": "execute_result",
          "data": {
            "text/plain": [
              "0               미쓰에이\n",
              "1                아이유\n",
              "2                MC몽\n",
              "3          포맨 (4MEN)\n",
              "4                2am\n",
              "            ...     \n",
              "1176             이소정\n",
              "1177     헤이즈 (Heize)\n",
              "1178          SG 워너비\n",
              "1179             임영웅\n",
              "1180    릴보이 (lIlBOI)\n",
              "Name: 2, Length: 1181, dtype: object"
            ]
          },
          "metadata": {},
          "execution_count": 34
        }
      ]
    },
    {
      "cell_type": "code",
      "source": [
        "df_song_info = df['1'].str.cat(df['2'], sep=' - ')\n",
        "print(df_song_info)"
      ],
      "metadata": {
        "id": "GOg1GJ8qwtv3",
        "colab": {
          "base_uri": "https://localhost:8080/"
        },
        "outputId": "9f5d8e42-a2c0-4589-eb20-36cd3f3cc272"
      },
      "execution_count": null,
      "outputs": [
        {
          "output_type": "stream",
          "name": "stdout",
          "text": [
            "0                            Bad Girl Good Girl - 미쓰에이\n",
            "1                              잔소리 (With 2AM 슬옹) - 아이유\n",
            "2                          죽을 만큼 아파서 (Feat. 멜로우) - MC몽\n",
            "3                             못해 (Feat. 美) - 포맨 (4MEN)\n",
            "4                                       죽어도 못 보내 - 2am\n",
            "                             ...                      \n",
            "1176                         함께 했는데 이별은 나 혼자인 거야 - 이소정\n",
            "1177                     비가 오는 날엔 (2021) - 헤이즈 (Heize)\n",
            "1178                                      살다가 - SG 워너비\n",
            "1179                                별빛 같은 나의 사랑아 - 임영웅\n",
            "1180    CREDIT (Feat. 염따, 기리보이, Zion.T) - 릴보이 (lIlBOI)\n",
            "Name: 1, Length: 1181, dtype: object\n"
          ]
        }
      ]
    },
    {
      "cell_type": "code",
      "source": [
        "melon_token = zip(df_song_info, final)"
      ],
      "metadata": {
        "id": "WAqTwYmuxaZV"
      },
      "execution_count": null,
      "outputs": []
    },
    {
      "cell_type": "code",
      "source": [
        "melon = pd.DataFrame(melon_token)\n",
        "melon"
      ],
      "metadata": {
        "colab": {
          "base_uri": "https://localhost:8080/",
          "height": 424
        },
        "id": "d-8AMdjuxfHz",
        "outputId": "a05ea089-7f1c-42ce-e597-c1656a9d5672"
      },
      "execution_count": null,
      "outputs": [
        {
          "output_type": "execute_result",
          "data": {
            "text/plain": [
              "                                                   0  \\\n",
              "0                          Bad Girl Good Girl - 미쓰에이   \n",
              "1                            잔소리 (With 2AM 슬옹) - 아이유   \n",
              "2                        죽을 만큼 아파서 (Feat. 멜로우) - MC몽   \n",
              "3                           못해 (Feat. 美) - 포맨 (4MEN)   \n",
              "4                                     죽어도 못 보내 - 2am   \n",
              "...                                              ...   \n",
              "1176                       함께 했는데 이별은 나 혼자인 거야 - 이소정   \n",
              "1177                   비가 오는 날엔 (2021) - 헤이즈 (Heize)   \n",
              "1178                                    살다가 - SG 워너비   \n",
              "1179                              별빛 같은 나의 사랑아 - 임영웅   \n",
              "1180  CREDIT (Feat. 염따, 기리보이, Zion.T) - 릴보이 (lIlBOI)   \n",
              "\n",
              "                                                      1  \n",
              "0     [속, 왜, 자꾸, 자신, 없다, 저, 뒤, 뒤, 뒤, 내, 겉모습, 그, 위선, ...  \n",
              "1     [이렇다, 자꾸, 더, 못, 참고, 화가, 소리, 하나, 열, 널, 위, 소리, 니...  \n",
              "2     [새, 내, 눈물, 내, 말좀, 잠깐, 죽, 것, 같다, 애, 전화, 좀, 분만, ...  \n",
              "3     [날, 날, 것, 못, 너, 난, 못, 억지로, 늘, 허전하다, 눈물, 없다, 못,...  \n",
              "4     [괜찮다, 왜, 거짓말, 해, 니, 날, 아프다, 걸, 정말, 거짓말, 해, 내, ...  \n",
              "...                                                 ...  \n",
              "1176  [그렇다, 내, 널, 홀로, 또, 미안하다, 날, 사랑, 그땐, 내, 곁, 있다, ...  \n",
              "1177  [다시, 널, 이제, 아니다, 걸, 알, 그렇다, 건, 밤, 것, 같다, 애, 너,...  \n",
              "1178  [너, 없다, 하늘, 나, 잠, 순간, 창, 없다, 감옥, 같다, 내, 곁, 있다,...  \n",
              "1179  [고맙다, 행복하다, 소중하다, 사람, 밤하늘, 당신, 나, 영원하다, 사랑, 사랑...  \n",
              "1180  [요즘, 바쁘다, 시간, 아무, 날, 때, 난, 기억, 이, 막, 음악, 작곡가, ...  \n",
              "\n",
              "[1181 rows x 2 columns]"
            ],
            "text/html": [
              "\n",
              "  <div id=\"df-e73c9e43-89d8-4d37-b775-5c1d96452e10\">\n",
              "    <div class=\"colab-df-container\">\n",
              "      <div>\n",
              "<style scoped>\n",
              "    .dataframe tbody tr th:only-of-type {\n",
              "        vertical-align: middle;\n",
              "    }\n",
              "\n",
              "    .dataframe tbody tr th {\n",
              "        vertical-align: top;\n",
              "    }\n",
              "\n",
              "    .dataframe thead th {\n",
              "        text-align: right;\n",
              "    }\n",
              "</style>\n",
              "<table border=\"1\" class=\"dataframe\">\n",
              "  <thead>\n",
              "    <tr style=\"text-align: right;\">\n",
              "      <th></th>\n",
              "      <th>0</th>\n",
              "      <th>1</th>\n",
              "    </tr>\n",
              "  </thead>\n",
              "  <tbody>\n",
              "    <tr>\n",
              "      <th>0</th>\n",
              "      <td>Bad Girl Good Girl - 미쓰에이</td>\n",
              "      <td>[속, 왜, 자꾸, 자신, 없다, 저, 뒤, 뒤, 뒤, 내, 겉모습, 그, 위선, ...</td>\n",
              "    </tr>\n",
              "    <tr>\n",
              "      <th>1</th>\n",
              "      <td>잔소리 (With 2AM 슬옹) - 아이유</td>\n",
              "      <td>[이렇다, 자꾸, 더, 못, 참고, 화가, 소리, 하나, 열, 널, 위, 소리, 니...</td>\n",
              "    </tr>\n",
              "    <tr>\n",
              "      <th>2</th>\n",
              "      <td>죽을 만큼 아파서 (Feat. 멜로우) - MC몽</td>\n",
              "      <td>[새, 내, 눈물, 내, 말좀, 잠깐, 죽, 것, 같다, 애, 전화, 좀, 분만, ...</td>\n",
              "    </tr>\n",
              "    <tr>\n",
              "      <th>3</th>\n",
              "      <td>못해 (Feat. 美) - 포맨 (4MEN)</td>\n",
              "      <td>[날, 날, 것, 못, 너, 난, 못, 억지로, 늘, 허전하다, 눈물, 없다, 못,...</td>\n",
              "    </tr>\n",
              "    <tr>\n",
              "      <th>4</th>\n",
              "      <td>죽어도 못 보내 - 2am</td>\n",
              "      <td>[괜찮다, 왜, 거짓말, 해, 니, 날, 아프다, 걸, 정말, 거짓말, 해, 내, ...</td>\n",
              "    </tr>\n",
              "    <tr>\n",
              "      <th>...</th>\n",
              "      <td>...</td>\n",
              "      <td>...</td>\n",
              "    </tr>\n",
              "    <tr>\n",
              "      <th>1176</th>\n",
              "      <td>함께 했는데 이별은 나 혼자인 거야 - 이소정</td>\n",
              "      <td>[그렇다, 내, 널, 홀로, 또, 미안하다, 날, 사랑, 그땐, 내, 곁, 있다, ...</td>\n",
              "    </tr>\n",
              "    <tr>\n",
              "      <th>1177</th>\n",
              "      <td>비가 오는 날엔 (2021) - 헤이즈 (Heize)</td>\n",
              "      <td>[다시, 널, 이제, 아니다, 걸, 알, 그렇다, 건, 밤, 것, 같다, 애, 너,...</td>\n",
              "    </tr>\n",
              "    <tr>\n",
              "      <th>1178</th>\n",
              "      <td>살다가 - SG 워너비</td>\n",
              "      <td>[너, 없다, 하늘, 나, 잠, 순간, 창, 없다, 감옥, 같다, 내, 곁, 있다,...</td>\n",
              "    </tr>\n",
              "    <tr>\n",
              "      <th>1179</th>\n",
              "      <td>별빛 같은 나의 사랑아 - 임영웅</td>\n",
              "      <td>[고맙다, 행복하다, 소중하다, 사람, 밤하늘, 당신, 나, 영원하다, 사랑, 사랑...</td>\n",
              "    </tr>\n",
              "    <tr>\n",
              "      <th>1180</th>\n",
              "      <td>CREDIT (Feat. 염따, 기리보이, Zion.T) - 릴보이 (lIlBOI)</td>\n",
              "      <td>[요즘, 바쁘다, 시간, 아무, 날, 때, 난, 기억, 이, 막, 음악, 작곡가, ...</td>\n",
              "    </tr>\n",
              "  </tbody>\n",
              "</table>\n",
              "<p>1181 rows × 2 columns</p>\n",
              "</div>\n",
              "      <button class=\"colab-df-convert\" onclick=\"convertToInteractive('df-e73c9e43-89d8-4d37-b775-5c1d96452e10')\"\n",
              "              title=\"Convert this dataframe to an interactive table.\"\n",
              "              style=\"display:none;\">\n",
              "        \n",
              "  <svg xmlns=\"http://www.w3.org/2000/svg\" height=\"24px\"viewBox=\"0 0 24 24\"\n",
              "       width=\"24px\">\n",
              "    <path d=\"M0 0h24v24H0V0z\" fill=\"none\"/>\n",
              "    <path d=\"M18.56 5.44l.94 2.06.94-2.06 2.06-.94-2.06-.94-.94-2.06-.94 2.06-2.06.94zm-11 1L8.5 8.5l.94-2.06 2.06-.94-2.06-.94L8.5 2.5l-.94 2.06-2.06.94zm10 10l.94 2.06.94-2.06 2.06-.94-2.06-.94-.94-2.06-.94 2.06-2.06.94z\"/><path d=\"M17.41 7.96l-1.37-1.37c-.4-.4-.92-.59-1.43-.59-.52 0-1.04.2-1.43.59L10.3 9.45l-7.72 7.72c-.78.78-.78 2.05 0 2.83L4 21.41c.39.39.9.59 1.41.59.51 0 1.02-.2 1.41-.59l7.78-7.78 2.81-2.81c.8-.78.8-2.07 0-2.86zM5.41 20L4 18.59l7.72-7.72 1.47 1.35L5.41 20z\"/>\n",
              "  </svg>\n",
              "      </button>\n",
              "      \n",
              "  <style>\n",
              "    .colab-df-container {\n",
              "      display:flex;\n",
              "      flex-wrap:wrap;\n",
              "      gap: 12px;\n",
              "    }\n",
              "\n",
              "    .colab-df-convert {\n",
              "      background-color: #E8F0FE;\n",
              "      border: none;\n",
              "      border-radius: 50%;\n",
              "      cursor: pointer;\n",
              "      display: none;\n",
              "      fill: #1967D2;\n",
              "      height: 32px;\n",
              "      padding: 0 0 0 0;\n",
              "      width: 32px;\n",
              "    }\n",
              "\n",
              "    .colab-df-convert:hover {\n",
              "      background-color: #E2EBFA;\n",
              "      box-shadow: 0px 1px 2px rgba(60, 64, 67, 0.3), 0px 1px 3px 1px rgba(60, 64, 67, 0.15);\n",
              "      fill: #174EA6;\n",
              "    }\n",
              "\n",
              "    [theme=dark] .colab-df-convert {\n",
              "      background-color: #3B4455;\n",
              "      fill: #D2E3FC;\n",
              "    }\n",
              "\n",
              "    [theme=dark] .colab-df-convert:hover {\n",
              "      background-color: #434B5C;\n",
              "      box-shadow: 0px 1px 3px 1px rgba(0, 0, 0, 0.15);\n",
              "      filter: drop-shadow(0px 1px 2px rgba(0, 0, 0, 0.3));\n",
              "      fill: #FFFFFF;\n",
              "    }\n",
              "  </style>\n",
              "\n",
              "      <script>\n",
              "        const buttonEl =\n",
              "          document.querySelector('#df-e73c9e43-89d8-4d37-b775-5c1d96452e10 button.colab-df-convert');\n",
              "        buttonEl.style.display =\n",
              "          google.colab.kernel.accessAllowed ? 'block' : 'none';\n",
              "\n",
              "        async function convertToInteractive(key) {\n",
              "          const element = document.querySelector('#df-e73c9e43-89d8-4d37-b775-5c1d96452e10');\n",
              "          const dataTable =\n",
              "            await google.colab.kernel.invokeFunction('convertToInteractive',\n",
              "                                                     [key], {});\n",
              "          if (!dataTable) return;\n",
              "\n",
              "          const docLinkHtml = 'Like what you see? Visit the ' +\n",
              "            '<a target=\"_blank\" href=https://colab.research.google.com/notebooks/data_table.ipynb>data table notebook</a>'\n",
              "            + ' to learn more about interactive tables.';\n",
              "          element.innerHTML = '';\n",
              "          dataTable['output_type'] = 'display_data';\n",
              "          await google.colab.output.renderOutput(dataTable, element);\n",
              "          const docLink = document.createElement('div');\n",
              "          docLink.innerHTML = docLinkHtml;\n",
              "          element.appendChild(docLink);\n",
              "        }\n",
              "      </script>\n",
              "    </div>\n",
              "  </div>\n",
              "  "
            ]
          },
          "metadata": {},
          "execution_count": 13
        }
      ]
    },
    {
      "cell_type": "code",
      "source": [
        "from google.colab import files\n",
        "melon.to_csv(\"meloncrawling_tokenization.csv\", encoding='utf-8-sig', index=False)\n",
        "files.download('meloncrawling_tokenization.csv')"
      ],
      "metadata": {
        "id": "vcf2VZ7hjWdB",
        "colab": {
          "base_uri": "https://localhost:8080/",
          "height": 17
        },
        "outputId": "993312a3-9ce8-42d8-bf68-28a25c3a296b"
      },
      "execution_count": null,
      "outputs": [
        {
          "output_type": "display_data",
          "data": {
            "text/plain": [
              "<IPython.core.display.Javascript object>"
            ],
            "application/javascript": [
              "\n",
              "    async function download(id, filename, size) {\n",
              "      if (!google.colab.kernel.accessAllowed) {\n",
              "        return;\n",
              "      }\n",
              "      const div = document.createElement('div');\n",
              "      const label = document.createElement('label');\n",
              "      label.textContent = `Downloading \"${filename}\": `;\n",
              "      div.appendChild(label);\n",
              "      const progress = document.createElement('progress');\n",
              "      progress.max = size;\n",
              "      div.appendChild(progress);\n",
              "      document.body.appendChild(div);\n",
              "\n",
              "      const buffers = [];\n",
              "      let downloaded = 0;\n",
              "\n",
              "      const channel = await google.colab.kernel.comms.open(id);\n",
              "      // Send a message to notify the kernel that we're ready.\n",
              "      channel.send({})\n",
              "\n",
              "      for await (const message of channel.messages) {\n",
              "        // Send a message to notify the kernel that we're ready.\n",
              "        channel.send({})\n",
              "        if (message.buffers) {\n",
              "          for (const buffer of message.buffers) {\n",
              "            buffers.push(buffer);\n",
              "            downloaded += buffer.byteLength;\n",
              "            progress.value = downloaded;\n",
              "          }\n",
              "        }\n",
              "      }\n",
              "      const blob = new Blob(buffers, {type: 'application/binary'});\n",
              "      const a = document.createElement('a');\n",
              "      a.href = window.URL.createObjectURL(blob);\n",
              "      a.download = filename;\n",
              "      div.appendChild(a);\n",
              "      a.click();\n",
              "      div.remove();\n",
              "    }\n",
              "  "
            ]
          },
          "metadata": {}
        },
        {
          "output_type": "display_data",
          "data": {
            "text/plain": [
              "<IPython.core.display.Javascript object>"
            ],
            "application/javascript": [
              "download(\"download_80d3d886-f6d1-4f4a-ac20-c9e45f8dead7\", \"meloncrawling_tokenization.csv\", 1099898)"
            ]
          },
          "metadata": {}
        }
      ]
    },
    {
      "cell_type": "code",
      "source": [
        ""
      ],
      "metadata": {
        "id": "Byb0Zla2TVyT"
      },
      "execution_count": null,
      "outputs": []
    }
  ]
}