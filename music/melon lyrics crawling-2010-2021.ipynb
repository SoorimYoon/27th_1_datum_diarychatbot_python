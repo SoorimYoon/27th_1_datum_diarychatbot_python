{
 "cells": [
  {
   "cell_type": "code",
   "execution_count": 1,
   "id": "299e2df6",
   "metadata": {},
   "outputs": [],
   "source": [
    "from selenium import webdriver\n",
    "from selenium.webdriver.common.keys import Keys\n",
    "from selenium.webdriver.common.action_chains import ActionChains\n",
    "from selenium.webdriver.common.by import By\n",
    "from selenium.webdriver.support.ui import WebDriverWait\n",
    "from selenium.webdriver.support import expected_conditions as EC\n",
    "import time\n",
    "import pandas"
   ]
  },
  {
   "cell_type": "markdown",
   "id": "fc60ff4b",
   "metadata": {},
   "source": [
    "1. 멜론차트 시대별 페이지를 연다\n",
    "2. 곡정보 칸의 아이콘을 클릭하여 곡정보 페이지로 이동한다.\n",
    "3. 제목과 가수, 가사를 크롤링하여 리스트로 저장한다.\n",
    "3-1. 펼치기 버튼을 눌러 가사 전체가 보이게 한 후\n",
    "3-2. 가사를 크롤링한다.\n",
    "4. 시대별 페이지에서 51-100위 버튼을 클릭하여 이 과정을 반복한다.\n",
    "5. 이 과정을 2010년부터 2021년까지 반복한다.\n",
    "5-1. 연도 글자 옆의 꺽쇠 >를 눌러 다음 페이지로 넘어간다.\n",
    "6. 크롤링한 결과를 pandas로 보인다.\n",
    "7. 크롤링한 결과를 csv 파일로 저장한다."
   ]
  },
  {
   "cell_type": "code",
   "execution_count": 2,
   "id": "8af18f1f",
   "metadata": {},
   "outputs": [],
   "source": [
    "#제목, 가수, 가사 크롤링하는 lyricsCrawling 함수 정의\n",
    "\n",
    "def lyricsCrawling1():\n",
    "    global melon_lyrics\n",
    "    for i in range(50):\n",
    "        btn_list = driver.find_elements_by_xpath('//*[@id=\"lst50\"]/td[4]/div/a/span')\n",
    "    \n",
    "        # actionchains를 불러온 후 곡정보 버튼을 눌러 곡정보 페이지로 이동한다.\n",
    "        actions = webdriver.ActionChains(driver)\n",
    "        actions.move_to_element(btn_list[i]).pause(1).click().perform()\n",
    "    \n",
    "        try:\n",
    "            # 노래 제목과 가수 텍스트를 가져온다.\n",
    "            song_title = driver.find_element_by_class_name(\"song_name\").text\n",
    "            song_singer = driver.find_element_by_class_name(\"artist\").text\n",
    "    \n",
    "            # 펼치기 버튼을 눌러서 가사가 전부 보이도록 한다.\n",
    "            lyrics_btn = driver.find_element_by_xpath('//*[@id=\"lyricArea\"]/button')\n",
    "            actions = webdriver.ActionChains(driver)\n",
    "            actions.move_to_element(lyrics_btn).pause(1).click().perform()\n",
    "    \n",
    "            # 가사 텍스트를 가져온다.\n",
    "            song_lyrics = driver.find_element_by_xpath('//*[@id=\"d_video_summary\"]').text\n",
    "    \n",
    "            # 연도, 제목, 가수, 가사를 리스트에 저장한다.\n",
    "            melon_lyrics.append([year, song_title, song_singer, song_lyrics])\n",
    "        \n",
    "            # 시대별 50위 페이지로 돌아간다.\n",
    "            driver.back()\n",
    "        \n",
    "        except: # 성인인증이 필요할 경우 시대별 50위 페이지로 돌아간 후 다음 곡부터 반복한다.\n",
    "            driver.back()\n",
    "            continue"
   ]
  },
  {
   "cell_type": "code",
   "execution_count": 3,
   "id": "34c69296",
   "metadata": {},
   "outputs": [],
   "source": [
    "def lyricsCrawling2():\n",
    "    global melon_lyrics\n",
    "    for i in range(50):\n",
    "        btn_list = driver.find_elements_by_xpath('//*[@id=\"lst100\"]/td[4]/div/a/span')\n",
    "        #xpath id가 상이하여 서로 다른 함수로 구현\n",
    "    \n",
    "        actions = webdriver.ActionChains(driver)\n",
    "        actions.move_to_element(btn_list[i]).pause(1).click().perform()\n",
    "    \n",
    "        try:\n",
    "            song_title = driver.find_element_by_class_name(\"song_name\").text\n",
    "            song_singer = driver.find_element_by_class_name(\"artist\").text\n",
    "    \n",
    "            lyrics_btn = driver.find_element_by_xpath('//*[@id=\"lyricArea\"]/button')\n",
    "            actions = webdriver.ActionChains(driver)\n",
    "            actions.move_to_element(lyrics_btn).pause(1).click().perform()\n",
    "    \n",
    "            song_lyrics = driver.find_element_by_xpath('//*[@id=\"d_video_summary\"]').text\n",
    "    \n",
    "            melon_lyrics.append([year, song_title, song_singer, song_lyrics])\n",
    "        \n",
    "            driver.back()\n",
    "        \n",
    "        except:\n",
    "            driver.back()\n",
    "            continue"
   ]
  },
  {
   "cell_type": "code",
   "execution_count": 4,
   "id": "185fd2e9",
   "metadata": {},
   "outputs": [],
   "source": [
    "# 51-100위 버튼 클릭하는 함수 pagemove 정의\n",
    "def pagemove():\n",
    "    next_btn = driver.find_element_by_xpath('//*[@id=\"tb_list\"]/div[2]/span/a')\n",
    "    actions = webdriver.ActionChains(driver)\n",
    "    actions.move_to_element(next_btn).pause(1).click().perform()"
   ]
  },
  {
   "cell_type": "code",
   "execution_count": 5,
   "id": "c5b43792",
   "metadata": {},
   "outputs": [],
   "source": [
    "# 2010년부터 2021년까지 반복하는 함수 yearchange 정의\n",
    "def yearchange():\n",
    "    global year\n",
    "    while year <= 2021:\n",
    "        lyricsCrawling1()\n",
    "        pagemove()\n",
    "        lyricsCrawling2()\n",
    "        try:\n",
    "            year_btn = driver.find_element_by_xpath('//*[@id=\"conts\"]/div[3]/div[3]/button[2]')\n",
    "            actions = webdriver.ActionChains(driver)\n",
    "            actions.move_to_element(year_btn).pause(1).click().perform()\n",
    "        except:\n",
    "            return\n",
    "        year += 1"
   ]
  },
  {
   "cell_type": "code",
   "execution_count": 6,
   "id": "a4c58550",
   "metadata": {},
   "outputs": [],
   "source": [
    "driver = webdriver.Chrome()\n",
    "\n",
    "melon = 'https://www.melon.com/chart/age/index.htm?chartType=YE&chartGenre=KPOP&chartDate=2010'\n",
    "\n",
    "driver.get(melon)"
   ]
  },
  {
   "cell_type": "code",
   "execution_count": 7,
   "id": "2e69f4bf",
   "metadata": {},
   "outputs": [],
   "source": [
    "#크롤링 실행\n",
    "melon_lyrics = []\n",
    "year = 2010\n",
    "yearchange()"
   ]
  },
  {
   "cell_type": "code",
   "execution_count": 10,
   "id": "a118437b",
   "metadata": {
    "scrolled": true
   },
   "outputs": [
    {
     "data": {
      "text/html": [
       "<div>\n",
       "<style scoped>\n",
       "    .dataframe tbody tr th:only-of-type {\n",
       "        vertical-align: middle;\n",
       "    }\n",
       "\n",
       "    .dataframe tbody tr th {\n",
       "        vertical-align: top;\n",
       "    }\n",
       "\n",
       "    .dataframe thead th {\n",
       "        text-align: right;\n",
       "    }\n",
       "</style>\n",
       "<table border=\"1\" class=\"dataframe\">\n",
       "  <thead>\n",
       "    <tr style=\"text-align: right;\">\n",
       "      <th></th>\n",
       "      <th>0</th>\n",
       "      <th>1</th>\n",
       "      <th>2</th>\n",
       "      <th>3</th>\n",
       "    </tr>\n",
       "  </thead>\n",
       "  <tbody>\n",
       "    <tr>\n",
       "      <th>0</th>\n",
       "      <td>2010</td>\n",
       "      <td>Bad Girl Good Girl</td>\n",
       "      <td>미쓰에이</td>\n",
       "      <td>You don't know me\\n\\nYou don't know me\\n\\nYou ...</td>\n",
       "    </tr>\n",
       "    <tr>\n",
       "      <th>1</th>\n",
       "      <td>2010</td>\n",
       "      <td>잔소리 (With 2AM 슬옹)</td>\n",
       "      <td>아이유</td>\n",
       "      <td>늦게 다니지좀 마\\n\\n술은 멀리좀 해봐\\n\\n열살짜리 애처럼 말을 안듣니\\n\\n정...</td>\n",
       "    </tr>\n",
       "    <tr>\n",
       "      <th>2</th>\n",
       "      <td>2010</td>\n",
       "      <td>죽을 만큼 아파서 (Feat. 멜로우)</td>\n",
       "      <td>MC몽</td>\n",
       "      <td>I found the way to\\nlet you leave\\nI never rea...</td>\n",
       "    </tr>\n",
       "    <tr>\n",
       "      <th>3</th>\n",
       "      <td>2010</td>\n",
       "      <td>못해 (Feat. 美)</td>\n",
       "      <td>포맨 (4MEN)</td>\n",
       "      <td>이제는 밥을 먹어도\\n눈물없이는 삼키지 못해\\n억지로 먹고 먹어도 속이 늘 허전해\\...</td>\n",
       "    </tr>\n",
       "    <tr>\n",
       "      <th>4</th>\n",
       "      <td>2010</td>\n",
       "      <td>죽어도 못 보내</td>\n",
       "      <td>2am</td>\n",
       "      <td>어려도 아픈건 똑같아\\n세상을 잘 모른다고\\n아픈걸 모르진 않아\\n괜찮아 질거라고 ...</td>\n",
       "    </tr>\n",
       "  </tbody>\n",
       "</table>\n",
       "</div>"
      ],
      "text/plain": [
       "      0                      1          2  \\\n",
       "0  2010     Bad Girl Good Girl       미쓰에이   \n",
       "1  2010      잔소리 (With 2AM 슬옹)        아이유   \n",
       "2  2010  죽을 만큼 아파서 (Feat. 멜로우)        MC몽   \n",
       "3  2010           못해 (Feat. 美)  포맨 (4MEN)   \n",
       "4  2010               죽어도 못 보내        2am   \n",
       "\n",
       "                                                   3  \n",
       "0  You don't know me\\n\\nYou don't know me\\n\\nYou ...  \n",
       "1  늦게 다니지좀 마\\n\\n술은 멀리좀 해봐\\n\\n열살짜리 애처럼 말을 안듣니\\n\\n정...  \n",
       "2  I found the way to\\nlet you leave\\nI never rea...  \n",
       "3  이제는 밥을 먹어도\\n눈물없이는 삼키지 못해\\n억지로 먹고 먹어도 속이 늘 허전해\\...  \n",
       "4  어려도 아픈건 똑같아\\n세상을 잘 모른다고\\n아픈걸 모르진 않아\\n괜찮아 질거라고 ...  "
      ]
     },
     "execution_count": 10,
     "metadata": {},
     "output_type": "execute_result"
    }
   ],
   "source": [
    "# pandas 데이터프레임으로 보이기\n",
    "df = pandas.DataFrame(melon_lyrics)\n",
    "df.head()"
   ]
  },
  {
   "cell_type": "code",
   "execution_count": 15,
   "id": "a23f9d13",
   "metadata": {},
   "outputs": [],
   "source": [
    "# csv 파일로 저장하기\n",
    "df.to_csv(\"meloncrawling.csv\", encoding='utf-8-sig', index=False)"
   ]
  }
 ],
 "metadata": {
  "kernelspec": {
   "display_name": "Python 3 (ipykernel)",
   "language": "python",
   "name": "python3"
  },
  "language_info": {
   "codemirror_mode": {
    "name": "ipython",
    "version": 3
   },
   "file_extension": ".py",
   "mimetype": "text/x-python",
   "name": "python",
   "nbconvert_exporter": "python",
   "pygments_lexer": "ipython3",
   "version": "3.9.7"
  }
 },
 "nbformat": 4,
 "nbformat_minor": 5
}
