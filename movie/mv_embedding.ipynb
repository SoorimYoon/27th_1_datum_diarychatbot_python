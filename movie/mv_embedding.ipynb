{
 "cells": [
  {
   "cell_type": "code",
   "execution_count": 1,
   "id": "7530a800",
   "metadata": {},
   "outputs": [],
   "source": [
    "import pandas as pd\n",
    "from sentence_transformers import SentenceTransformer\n",
    "from sklearn.metrics.pairwise import cosine_similarity"
   ]
  },
  {
   "cell_type": "code",
   "execution_count": 2,
   "id": "0ac909ce",
   "metadata": {},
   "outputs": [],
   "source": [
    "model = SentenceTransformer('jhgan/ko-sroberta-multitask')"
   ]
  },
  {
   "cell_type": "code",
   "execution_count": 3,
   "id": "c2428eba",
   "metadata": {},
   "outputs": [],
   "source": [
    "df = pd.read_csv('sieun_mv24.csv')"
   ]
  },
  {
   "cell_type": "code",
   "execution_count": 4,
   "id": "f4799efc",
   "metadata": {},
   "outputs": [
    {
     "data": {
      "text/html": [
       "<div>\n",
       "<style scoped>\n",
       "    .dataframe tbody tr th:only-of-type {\n",
       "        vertical-align: middle;\n",
       "    }\n",
       "\n",
       "    .dataframe tbody tr th {\n",
       "        vertical-align: top;\n",
       "    }\n",
       "\n",
       "    .dataframe thead th {\n",
       "        text-align: right;\n",
       "    }\n",
       "</style>\n",
       "<table border=\"1\" class=\"dataframe\">\n",
       "  <thead>\n",
       "    <tr style=\"text-align: right;\">\n",
       "      <th></th>\n",
       "      <th>0</th>\n",
       "      <th>1</th>\n",
       "    </tr>\n",
       "  </thead>\n",
       "  <tbody>\n",
       "    <tr>\n",
       "      <th>0</th>\n",
       "      <td>꼬마 신랑 2</td>\n",
       "      <td>['꼬마', '신랑', '아버지', '서', '판서', '어명', '받다', '국보...</td>\n",
       "    </tr>\n",
       "    <tr>\n",
       "      <th>1</th>\n",
       "      <td>꼬마 신랑의 한</td>\n",
       "      <td>['나그네', '변장', '어사', '김상원', '유령', '나타나다', '마을',...</td>\n",
       "    </tr>\n",
       "    <tr>\n",
       "      <th>2</th>\n",
       "      <td>꼬마 아씨</td>\n",
       "      <td>['나이', '오십', '아들', '보다', '참판', '내외', '손주', '일찍...</td>\n",
       "    </tr>\n",
       "    <tr>\n",
       "      <th>3</th>\n",
       "      <td>꼭지 꼭지</td>\n",
       "      <td>['꼭지', '만년', '계장', '하다', '아버지', '어머니', '오빠', '...</td>\n",
       "    </tr>\n",
       "    <tr>\n",
       "      <th>4</th>\n",
       "      <td>꽃가마</td>\n",
       "      <td>['이조', '중엽', '연산군', '성', '차다', '봉', '손녀', '취당'...</td>\n",
       "    </tr>\n",
       "    <tr>\n",
       "      <th>...</th>\n",
       "      <td>...</td>\n",
       "      <td>...</td>\n",
       "    </tr>\n",
       "    <tr>\n",
       "      <th>19984</th>\n",
       "      <td>잔 다라 2</td>\n",
       "      <td>['경찰', '출신', '잘나가다', '태프', '집안', '겉', '으론', '화...</td>\n",
       "    </tr>\n",
       "    <tr>\n",
       "      <th>19986</th>\n",
       "      <td>아름다운 날들</td>\n",
       "      <td>['엄마', '단둘', '살다', '정은', '어느', '일요일', '놀이', '공...</td>\n",
       "    </tr>\n",
       "    <tr>\n",
       "      <th>19987</th>\n",
       "      <td>턱수염</td>\n",
       "      <td>['하다', '여학생', '그림자', '놀이', '꿈', '인지', '기억', '인...</td>\n",
       "    </tr>\n",
       "    <tr>\n",
       "      <th>19996</th>\n",
       "      <td>세인트 앤 솔저 더 비기닝</td>\n",
       "      <td>['2', '차', '대전', '중', '프랑스', '아르덴', '지역', '배경'...</td>\n",
       "    </tr>\n",
       "    <tr>\n",
       "      <th>19997</th>\n",
       "      <td>산타클로스의 암살</td>\n",
       "      <td>['동화', '로맨스', '멜로드라마', '서스펜스', '스릴러', '스타', '일...</td>\n",
       "    </tr>\n",
       "  </tbody>\n",
       "</table>\n",
       "<p>15616 rows × 2 columns</p>\n",
       "</div>"
      ],
      "text/plain": [
       "                    0                                                  1\n",
       "0             꼬마 신랑 2  ['꼬마', '신랑', '아버지', '서', '판서', '어명', '받다', '국보...\n",
       "1            꼬마 신랑의 한  ['나그네', '변장', '어사', '김상원', '유령', '나타나다', '마을',...\n",
       "2               꼬마 아씨  ['나이', '오십', '아들', '보다', '참판', '내외', '손주', '일찍...\n",
       "3               꼭지 꼭지  ['꼭지', '만년', '계장', '하다', '아버지', '어머니', '오빠', '...\n",
       "4                 꽃가마  ['이조', '중엽', '연산군', '성', '차다', '봉', '손녀', '취당'...\n",
       "...               ...                                                ...\n",
       "19984          잔 다라 2  ['경찰', '출신', '잘나가다', '태프', '집안', '겉', '으론', '화...\n",
       "19986         아름다운 날들  ['엄마', '단둘', '살다', '정은', '어느', '일요일', '놀이', '공...\n",
       "19987             턱수염  ['하다', '여학생', '그림자', '놀이', '꿈', '인지', '기억', '인...\n",
       "19996  세인트 앤 솔저 더 비기닝  ['2', '차', '대전', '중', '프랑스', '아르덴', '지역', '배경'...\n",
       "19997       산타클로스의 암살  ['동화', '로맨스', '멜로드라마', '서스펜스', '스릴러', '스타', '일...\n",
       "\n",
       "[15616 rows x 2 columns]"
      ]
     },
     "execution_count": 4,
     "metadata": {},
     "output_type": "execute_result"
    }
   ],
   "source": [
    "df= df.drop(index = df[df['1'] == \"['False']\"].index)\n",
    "df"
   ]
  },
  {
   "cell_type": "code",
   "execution_count": 6,
   "id": "31069ace",
   "metadata": {},
   "outputs": [
    {
     "data": {
      "text/html": [
       "<div>\n",
       "<style scoped>\n",
       "    .dataframe tbody tr th:only-of-type {\n",
       "        vertical-align: middle;\n",
       "    }\n",
       "\n",
       "    .dataframe tbody tr th {\n",
       "        vertical-align: top;\n",
       "    }\n",
       "\n",
       "    .dataframe thead th {\n",
       "        text-align: right;\n",
       "    }\n",
       "</style>\n",
       "<table border=\"1\" class=\"dataframe\">\n",
       "  <thead>\n",
       "    <tr style=\"text-align: right;\">\n",
       "      <th></th>\n",
       "      <th>0</th>\n",
       "      <th>1</th>\n",
       "      <th>embedding</th>\n",
       "    </tr>\n",
       "  </thead>\n",
       "  <tbody>\n",
       "    <tr>\n",
       "      <th>0</th>\n",
       "      <td>꼬마 신랑 2</td>\n",
       "      <td>['꼬마', '신랑', '아버지', '서', '판서', '어명', '받다', '국보...</td>\n",
       "      <td>[0.091662936, -0.12053923, 0.1743379, -0.71220...</td>\n",
       "    </tr>\n",
       "    <tr>\n",
       "      <th>1</th>\n",
       "      <td>꼬마 신랑의 한</td>\n",
       "      <td>['나그네', '변장', '어사', '김상원', '유령', '나타나다', '마을',...</td>\n",
       "      <td>[0.15889968, -0.4938616, -0.009015381, -0.5088...</td>\n",
       "    </tr>\n",
       "    <tr>\n",
       "      <th>2</th>\n",
       "      <td>꼬마 아씨</td>\n",
       "      <td>['나이', '오십', '아들', '보다', '참판', '내외', '손주', '일찍...</td>\n",
       "      <td>[0.02558138, -0.424004, -0.38803142, -0.304510...</td>\n",
       "    </tr>\n",
       "    <tr>\n",
       "      <th>3</th>\n",
       "      <td>꼭지 꼭지</td>\n",
       "      <td>['꼭지', '만년', '계장', '하다', '아버지', '어머니', '오빠', '...</td>\n",
       "      <td>[0.066882834, -0.08833784, -0.402084, -0.45835...</td>\n",
       "    </tr>\n",
       "    <tr>\n",
       "      <th>4</th>\n",
       "      <td>꽃가마</td>\n",
       "      <td>['이조', '중엽', '연산군', '성', '차다', '봉', '손녀', '취당'...</td>\n",
       "      <td>[0.28374198, -0.5704211, -0.12010878, -0.48506...</td>\n",
       "    </tr>\n",
       "  </tbody>\n",
       "</table>\n",
       "</div>"
      ],
      "text/plain": [
       "          0                                                  1  \\\n",
       "0   꼬마 신랑 2  ['꼬마', '신랑', '아버지', '서', '판서', '어명', '받다', '국보...   \n",
       "1  꼬마 신랑의 한  ['나그네', '변장', '어사', '김상원', '유령', '나타나다', '마을',...   \n",
       "2     꼬마 아씨  ['나이', '오십', '아들', '보다', '참판', '내외', '손주', '일찍...   \n",
       "3     꼭지 꼭지  ['꼭지', '만년', '계장', '하다', '아버지', '어머니', '오빠', '...   \n",
       "4       꽃가마  ['이조', '중엽', '연산군', '성', '차다', '봉', '손녀', '취당'...   \n",
       "\n",
       "                                           embedding  \n",
       "0  [0.091662936, -0.12053923, 0.1743379, -0.71220...  \n",
       "1  [0.15889968, -0.4938616, -0.009015381, -0.5088...  \n",
       "2  [0.02558138, -0.424004, -0.38803142, -0.304510...  \n",
       "3  [0.066882834, -0.08833784, -0.402084, -0.45835...  \n",
       "4  [0.28374198, -0.5704211, -0.12010878, -0.48506...  "
      ]
     },
     "execution_count": 6,
     "metadata": {},
     "output_type": "execute_result"
    }
   ],
   "source": [
    "#영화줄거리내용 인코딩\n",
    "df['embedding']=pd.Series([[]]*len(df))\n",
    "df['embedding']= df['1'].map(lambda x: list(model.encode(x)))\n",
    "df.head()"
   ]
  },
  {
   "cell_type": "code",
   "execution_count": 7,
   "id": "ea76e0bf",
   "metadata": {},
   "outputs": [],
   "source": [
    "#embedding 값을 포함하여 새로운 csv로 저장\n",
    "\n",
    "df.to_csv('mv24embedding.csv')"
   ]
  },
  {
   "cell_type": "code",
   "execution_count": null,
   "id": "18787f58",
   "metadata": {},
   "outputs": [],
   "source": []
  }
 ],
 "metadata": {
  "kernelspec": {
   "display_name": "Python 3 (ipykernel)",
   "language": "python",
   "name": "python3"
  },
  "language_info": {
   "codemirror_mode": {
    "name": "ipython",
    "version": 3
   },
   "file_extension": ".py",
   "mimetype": "text/x-python",
   "name": "python",
   "nbconvert_exporter": "python",
   "pygments_lexer": "ipython3",
   "version": "3.9.7"
  }
 },
 "nbformat": 4,
 "nbformat_minor": 5
}
