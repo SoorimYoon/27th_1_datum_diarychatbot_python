{
 "cells": [
  {
   "cell_type": "code",
   "execution_count": 1,
   "id": "162d75c2",
   "metadata": {},
   "outputs": [
    {
     "name": "stdout",
     "output_type": "stream",
     "text": [
      "Collecting konlpy\n",
      "  Downloading konlpy-0.6.0-py2.py3-none-any.whl (19.4 MB)\n",
      "Collecting JPype1>=0.7.0\n",
      "  Downloading JPype1-1.4.0-cp39-cp39-win_amd64.whl (344 kB)\n",
      "Requirement already satisfied: lxml>=4.1.0 in c:\\users\\alaco\\anaconda3\\lib\\site-packages (from konlpy) (4.6.3)\n",
      "Requirement already satisfied: numpy>=1.6 in c:\\users\\alaco\\anaconda3\\lib\\site-packages (from konlpy) (1.20.3)\n",
      "Installing collected packages: JPype1, konlpy\n",
      "Successfully installed JPype1-1.4.0 konlpy-0.6.0\n"
     ]
    }
   ],
   "source": [
    "!pip install konlpy\n",
    "from tqdm import tqdm"
   ]
  },
  {
   "cell_type": "code",
   "execution_count": 2,
   "id": "bc93b380",
   "metadata": {},
   "outputs": [],
   "source": [
    "import pandas as pd\n",
    "import numpy as np\n",
    "import re\n",
    "df1= pd.read_csv('navermovie12.csv')"
   ]
  },
  {
   "cell_type": "code",
   "execution_count": 3,
   "id": "74e8140b",
   "metadata": {},
   "outputs": [],
   "source": [
    "import warnings\n",
    "warnings.filterwarnings(action='ignore')\n",
    "from konlpy.tag import Okt"
   ]
  },
  {
   "cell_type": "code",
   "execution_count": 4,
   "id": "ab7754c5",
   "metadata": {},
   "outputs": [],
   "source": [
    "def preprocessing(review,okt,remove_stopwords=False,stop_words=[]):\n",
    "    review_text= re.sub('[^가-힣ㄱ-ㅎㅏ-ㅣ\\\\s]',\"\",review)\n",
    "\n",
    "    word_review=okt.morphs(review,stem=True)\n",
    "  \n",
    "    if remove_stopwords:\n",
    "        word_review=[token for token in word_review if not token in stop_words]\n",
    "    return word_review"
   ]
  },
  {
   "cell_type": "code",
   "execution_count": 5,
   "id": "d4e4bff5",
   "metadata": {},
   "outputs": [
    {
     "name": "stderr",
     "output_type": "stream",
     "text": [
      "100%|██████████| 9999/9999 [03:11<00:00, 52.19it/s] \n"
     ]
    }
   ],
   "source": [
    "stop_words=['은','는','이','가','하','아','것','들','의','있','되','수','보','주','등','한','를','에','로','을','(',')',',','와','에는','으로','고',\n",
    "            '또한', '그리고','뿐만', '아니라', '설사','비록' ,'더라도', '아니면', '만', '그러','속',  '데', '자신', '안', '어떤', '내', '경우', '명','다시' ,'이런' ,'원', '잘', '통하' ,'놓','.' ]\n",
    "okt=Okt()\n",
    "clean_train_review=[]\n",
    "\n",
    "for i in tqdm(range(9999)):\n",
    "    x_data= df1['1'][i]\n",
    "    if type(x_data) == str:\n",
    "        clean_train_review.append(preprocessing(x_data,okt,remove_stopwords=True,stop_words=stop_words))\n",
    "    else:\n",
    "        clean_train_review.append([])"
   ]
  },
  {
   "cell_type": "code",
   "execution_count": 6,
   "id": "1ebbc928",
   "metadata": {},
   "outputs": [],
   "source": [
    "movie_token= zip(df1['0'],clean_train_review)"
   ]
  },
  {
   "cell_type": "code",
   "execution_count": 7,
   "id": "3b8ed972",
   "metadata": {},
   "outputs": [
    {
     "data": {
      "text/html": [
       "<div>\n",
       "<style scoped>\n",
       "    .dataframe tbody tr th:only-of-type {\n",
       "        vertical-align: middle;\n",
       "    }\n",
       "\n",
       "    .dataframe tbody tr th {\n",
       "        vertical-align: top;\n",
       "    }\n",
       "\n",
       "    .dataframe thead th {\n",
       "        text-align: right;\n",
       "    }\n",
       "</style>\n",
       "<table border=\"1\" class=\"dataframe\">\n",
       "  <thead>\n",
       "    <tr style=\"text-align: right;\">\n",
       "      <th></th>\n",
       "      <th>0</th>\n",
       "      <th>1</th>\n",
       "    </tr>\n",
       "  </thead>\n",
       "  <tbody>\n",
       "    <tr>\n",
       "      <th>0</th>\n",
       "      <td>시네마 천국</td>\n",
       "      <td>[힐, 밸리, Hill, Valley, 살다, 주인공, 마티, 맥플라이, Marty...</td>\n",
       "    </tr>\n",
       "    <tr>\n",
       "      <th>1</th>\n",
       "      <td>빽 투 더 퓨쳐</td>\n",
       "      <td>[브라운, 박사, Dr, Emmett, ', Doc, ', L, Brown, :, ...</td>\n",
       "    </tr>\n",
       "    <tr>\n",
       "      <th>2</th>\n",
       "      <td>빽 투 더 퓨쳐 2</td>\n",
       "      <td>[1955년, 남겨지다, 마티, 박사, 1885년, 가다, 음, 알, 게, 되다, ...</td>\n",
       "    </tr>\n",
       "    <tr>\n",
       "      <th>3</th>\n",
       "      <td>빽 투 더 퓨쳐 3</td>\n",
       "      <td>[{, 아주, 멀다, 옛날, 은하계, 저편, ...(, A, long, time, ...</td>\n",
       "    </tr>\n",
       "    <tr>\n",
       "      <th>4</th>\n",
       "      <td>스타워즈 에피소드 4 - 새로운 희망</td>\n",
       "      <td>[{, 아주, 멀다, 옛날, 은하계, 저편, ...(, A, long, time, ...</td>\n",
       "    </tr>\n",
       "    <tr>\n",
       "      <th>...</th>\n",
       "      <td>...</td>\n",
       "      <td>...</td>\n",
       "    </tr>\n",
       "    <tr>\n",
       "      <th>9994</th>\n",
       "      <td>껄떡쇠</td>\n",
       "      <td>[임, 영의정, 윤대감, 아들, 득, 나이, 12, 살이, 나, 신동, 이라고, 소...</td>\n",
       "    </tr>\n",
       "    <tr>\n",
       "      <th>9995</th>\n",
       "      <td>꼬마 암행어사</td>\n",
       "      <td>[임진왜란, 직후, 동래부, 사, 박성, 달, 정국, 혼란, 틈, 타다, 왜적, 첩...</td>\n",
       "    </tr>\n",
       "    <tr>\n",
       "      <th>9996</th>\n",
       "      <td>꼬마 검객</td>\n",
       "      <td>[훈, 이란, 꼬마, 엄마, 품, 에서는, 투정, 부리다, 어리다, 그래도, 사장,...</td>\n",
       "    </tr>\n",
       "    <tr>\n",
       "      <th>9997</th>\n",
       "      <td>꼬마 사장과 여비서</td>\n",
       "      <td>[꽃봉, 서, 판서, 외아들, 인, 꼬마, 신랑, 득, 에게, 시집, 간다, 서, ...</td>\n",
       "    </tr>\n",
       "    <tr>\n",
       "      <th>9998</th>\n",
       "      <td>꼬마 신랑</td>\n",
       "      <td>[False]</td>\n",
       "    </tr>\n",
       "  </tbody>\n",
       "</table>\n",
       "<p>9999 rows × 2 columns</p>\n",
       "</div>"
      ],
      "text/plain": [
       "                         0                                                  1\n",
       "0                   시네마 천국  [힐, 밸리, Hill, Valley, 살다, 주인공, 마티, 맥플라이, Marty...\n",
       "1                 빽 투 더 퓨쳐  [브라운, 박사, Dr, Emmett, ', Doc, ', L, Brown, :, ...\n",
       "2               빽 투 더 퓨쳐 2  [1955년, 남겨지다, 마티, 박사, 1885년, 가다, 음, 알, 게, 되다, ...\n",
       "3               빽 투 더 퓨쳐 3  [{, 아주, 멀다, 옛날, 은하계, 저편, ...(, A, long, time, ...\n",
       "4     스타워즈 에피소드 4 - 새로운 희망  [{, 아주, 멀다, 옛날, 은하계, 저편, ...(, A, long, time, ...\n",
       "...                    ...                                                ...\n",
       "9994                   껄떡쇠  [임, 영의정, 윤대감, 아들, 득, 나이, 12, 살이, 나, 신동, 이라고, 소...\n",
       "9995               꼬마 암행어사  [임진왜란, 직후, 동래부, 사, 박성, 달, 정국, 혼란, 틈, 타다, 왜적, 첩...\n",
       "9996                 꼬마 검객  [훈, 이란, 꼬마, 엄마, 품, 에서는, 투정, 부리다, 어리다, 그래도, 사장,...\n",
       "9997            꼬마 사장과 여비서  [꽃봉, 서, 판서, 외아들, 인, 꼬마, 신랑, 득, 에게, 시집, 간다, 서, ...\n",
       "9998                 꼬마 신랑                                            [False]\n",
       "\n",
       "[9999 rows x 2 columns]"
      ]
     },
     "execution_count": 7,
     "metadata": {},
     "output_type": "execute_result"
    }
   ],
   "source": [
    "movie12= pd.DataFrame(movie_token)\n",
    "movie12"
   ]
  },
  {
   "cell_type": "code",
   "execution_count": 8,
   "id": "42977cb4",
   "metadata": {},
   "outputs": [],
   "source": [
    "movie12.to_csv('sieun_mv12.csv',index=False)"
   ]
  },
  {
   "cell_type": "code",
   "execution_count": null,
   "id": "801dc118",
   "metadata": {},
   "outputs": [],
   "source": []
  }
 ],
 "metadata": {
  "kernelspec": {
   "display_name": "Python 3 (ipykernel)",
   "language": "python",
   "name": "python3"
  },
  "language_info": {
   "codemirror_mode": {
    "name": "ipython",
    "version": 3
   },
   "file_extension": ".py",
   "mimetype": "text/x-python",
   "name": "python",
   "nbconvert_exporter": "python",
   "pygments_lexer": "ipython3",
   "version": "3.9.7"
  }
 },
 "nbformat": 4,
 "nbformat_minor": 5
}
