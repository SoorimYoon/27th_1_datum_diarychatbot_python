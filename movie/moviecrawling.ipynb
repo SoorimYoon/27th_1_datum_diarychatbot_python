{
 "cells": [
  {
   "cell_type": "code",
   "execution_count": 1,
   "id": "4bbcb6a8",
   "metadata": {},
   "outputs": [],
   "source": [
    "import requests\n",
    "from bs4 import BeautifulSoup\n",
    "import pandas as pd\n",
    "from tqdm import tqdm"
   ]
  },
  {
   "cell_type": "code",
   "execution_count": 2,
   "id": "e23764ea",
   "metadata": {},
   "outputs": [
    {
     "name": "stderr",
     "output_type": "stream",
     "text": [
      "100%|██████████| 9999/9999 [1:26:41<00:00,  1.92it/s]     \n"
     ]
    }
   ],
   "source": [
    "titlelist=[]\n",
    "\n",
    "for i in tqdm(range(120002,130001)):\n",
    "    url=\"https://movie.naver.com/movie/bi/mi/basic.naver?code={}\".format(i)\n",
    "    resp=requests.get(url)\n",
    "    soup=BeautifulSoup(resp.text,\"lxml\")\n",
    "    title=soup.find('head').find('title').text.replace(' : 네이버 영화','')\n",
    "    titlelist.append(title)"
   ]
  },
  {
   "cell_type": "code",
   "execution_count": 3,
   "id": "c1f4fdb7",
   "metadata": {},
   "outputs": [],
   "source": [
    "#영화 줄거리 크롤링 함수\n",
    "def getStory(url):\n",
    "    response= requests.get(url)\n",
    "    if response.status_code ==200:\n",
    "        html= response.text\n",
    "        soup=BeautifulSoup(html,'lxml')\n",
    "        story=soup.find('p','con_tx')\n",
    "        if story is not None:\n",
    "            story = str(story).replace('<p class=\"con_tx\">','').replace('</p>','').replace('\\n','').replace('\\t','')\n",
    "            story = story.replace('&lt;','<').replace('&gt;','>').replace('\\r','').replace('\\xa0','')\n",
    "            return story\n",
    "        return False"
   ]
  },
  {
   "cell_type": "code",
   "execution_count": 4,
   "id": "0441bad6",
   "metadata": {},
   "outputs": [
    {
     "name": "stderr",
     "output_type": "stream",
     "text": [
      "100%|██████████| 9999/9999 [1:16:38<00:00,  2.17it/s]     \n"
     ]
    }
   ],
   "source": [
    "#영화 줄거리 리스트로 출력하기\n",
    "\n",
    "story = []\n",
    "\n",
    "for i in tqdm(range(120002,130001)):\n",
    "    url=\"https://movie.naver.com/movie/bi/mi/basic.naver?code={}\".format(i)\n",
    "    story.append(getStory(url))\n",
    " "
   ]
  },
  {
   "cell_type": "code",
   "execution_count": 5,
   "id": "5969cf09",
   "metadata": {},
   "outputs": [],
   "source": [
    "movie = list(zip(titlelist,story))"
   ]
  },
  {
   "cell_type": "code",
   "execution_count": 6,
   "id": "33c4cfe9",
   "metadata": {},
   "outputs": [],
   "source": [
    "df=pd.DataFrame(movie)"
   ]
  },
  {
   "cell_type": "code",
   "execution_count": 7,
   "id": "b293d4a0",
   "metadata": {},
   "outputs": [],
   "source": [
    "# csv 파일로 저장하기\n",
    "df.to_csv(\"navermovie1213.csv\", encoding='utf-8-sig', index=False)"
   ]
  },
  {
   "cell_type": "code",
   "execution_count": null,
   "id": "6ae83dd8",
   "metadata": {},
   "outputs": [],
   "source": []
  }
 ],
 "metadata": {
  "kernelspec": {
   "display_name": "Python 3.10.4 64-bit",
   "language": "python",
   "name": "python3"
  },
  "language_info": {
   "codemirror_mode": {
    "name": "ipython",
    "version": 3
   },
   "file_extension": ".py",
   "mimetype": "text/x-python",
   "name": "python",
   "nbconvert_exporter": "python",
   "pygments_lexer": "ipython3",
   "version": "3.10.4"
  },
  "vscode": {
   "interpreter": {
    "hash": "9166000a8ca25f7d1627b139ee29f16fa108f7981b335d89458e48066ce9b809"
   }
  }
 },
 "nbformat": 4,
 "nbformat_minor": 5
}
