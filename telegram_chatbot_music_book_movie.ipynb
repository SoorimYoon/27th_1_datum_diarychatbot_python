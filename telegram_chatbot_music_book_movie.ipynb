{
 "cells": [
  {
   "cell_type": "code",
   "execution_count": 1,
   "id": "25f93c74",
   "metadata": {},
   "outputs": [],
   "source": [
    "import pandas as pd\n",
    "import sklearn\n",
    "from streamlit_chat import message\n",
    "from sklearn.metrics.pairwise import cosine_similarity"
   ]
  },
  {
   "cell_type": "code",
   "execution_count": 2,
   "id": "0c26e9e1",
   "metadata": {},
   "outputs": [],
   "source": [
    "from sentence_transformers import SentenceTransformer"
   ]
  },
  {
   "cell_type": "code",
   "execution_count": 3,
   "id": "ce12424c",
   "metadata": {},
   "outputs": [
    {
     "name": "stderr",
     "output_type": "stream",
     "text": [
      "2022-08-10 17:57:08.154 INFO    dotenv.main: Python-dotenv could not find configuration file .env.\n"
     ]
    },
    {
     "data": {
      "text/plain": [
       "True"
      ]
     },
     "execution_count": 3,
     "metadata": {},
     "output_type": "execute_result"
    }
   ],
   "source": [
    "import os\n",
    "import sys\n",
    "from PyQt5.QtWidgets import QApplication\n",
    "from telepot.loop import MessageLoop\n",
    "from dotenv import load_dotenv\n",
    "import telepot\n",
    "load_dotenv(verbose=True)"
   ]
  },
  {
   "cell_type": "code",
   "execution_count": 4,
   "id": "a93253b3",
   "metadata": {},
   "outputs": [],
   "source": [
    "import random"
   ]
  },
  {
   "cell_type": "markdown",
   "id": "00be7c35",
   "metadata": {},
   "source": [
    "# 텔레그램 챗봇 구현"
   ]
  },
  {
   "cell_type": "code",
   "execution_count": 5,
   "id": "23c066d2",
   "metadata": {},
   "outputs": [],
   "source": [
    "def get_melon_df(): # 크롤링한 데이터 넣어주는 함수\n",
    "    df = pd.read_csv('meloncrawling_embedding.csv', header=0)\n",
    "    return df"
   ]
  },
  {
   "cell_type": "code",
   "execution_count": 6,
   "id": "e624b4e9",
   "metadata": {},
   "outputs": [],
   "source": [
    "def get_book_df():\n",
    "    df = pd.read_csv('bookdata_final.csv')\n",
    "    return df"
   ]
  },
  {
   "cell_type": "code",
   "execution_count": 7,
   "id": "c752a1c2",
   "metadata": {},
   "outputs": [],
   "source": [
    "def get_movie_df():\n",
    "    df = pd.read_csv('movie_final_data.csv')\n",
    "    return df"
   ]
  },
  {
   "cell_type": "code",
   "execution_count": 8,
   "id": "738f74bf",
   "metadata": {},
   "outputs": [],
   "source": [
    "def cached_model():\n",
    "    model = SentenceTransformer('jhgan/ko-sroberta-multitask')\n",
    "    return model"
   ]
  },
  {
   "cell_type": "code",
   "execution_count": 9,
   "id": "f1f7d261",
   "metadata": {},
   "outputs": [],
   "source": [
    "melon = get_melon_df()\n",
    "for i in range(len(melon['embedding'])):\n",
    "    lst = melon['embedding'][i][1:-1].split(', ')\n",
    "    lst = list(map(float, lst))\n",
    "    melon['embedding'][i] = lst"
   ]
  },
  {
   "cell_type": "code",
   "execution_count": 10,
   "id": "874cd737",
   "metadata": {},
   "outputs": [],
   "source": [
    "book = get_book_df()"
   ]
  },
  {
   "cell_type": "code",
   "execution_count": 11,
   "id": "55a11fa4",
   "metadata": {},
   "outputs": [],
   "source": [
    "for i in range(len(book)):\n",
    "    lst = str(book['embedding'][i])[1:-1]\n",
    "    lst = str(lst).split(', ')\n",
    "    lst = list(map(float, lst))\n",
    "    book['embedding'][i] = lst"
   ]
  },
  {
   "cell_type": "code",
   "execution_count": 12,
   "id": "60891656",
   "metadata": {},
   "outputs": [],
   "source": [
    "movie = get_movie_df()"
   ]
  },
  {
   "cell_type": "code",
   "execution_count": 13,
   "id": "ea117990",
   "metadata": {},
   "outputs": [],
   "source": [
    "for i in range(len(movie)):\n",
    "    lst = str(movie['embedding'][i])[1:-1]\n",
    "    lst = str(lst).split(', ')\n",
    "    lst = list(map(float, lst))\n",
    "    movie['embedding'][i] = lst"
   ]
  },
  {
   "cell_type": "code",
   "execution_count": 14,
   "id": "235805bd",
   "metadata": {},
   "outputs": [],
   "source": [
    "def get_music_output(text):\n",
    "    global melon\n",
    "    melon1 = get_melon_df()\n",
    "    model = cached_model()\n",
    "    embedding = model.encode(text)\n",
    "    melon1['similarity'] = melon['embedding'].map(lambda x: cosine_similarity([embedding], [x]).squeeze())\n",
    "    answer = melon.loc[melon1['similarity'].idxmax()]\n",
    "    return answer[0]"
   ]
  },
  {
   "cell_type": "code",
   "execution_count": 15,
   "id": "f6c85ed0",
   "metadata": {},
   "outputs": [],
   "source": [
    "def get_book_output(text):\n",
    "    global book\n",
    "    book1 = get_book_df()\n",
    "    model = cached_model()\n",
    "    embedding = model.encode(text)\n",
    "    book1['similarity'] = book['embedding'].map(lambda x: cosine_similarity([embedding], [x]).squeeze())\n",
    "    answer = book.loc[book1['similarity'].idxmax()]\n",
    "    return answer[0]"
   ]
  },
  {
   "cell_type": "code",
   "execution_count": 16,
   "id": "f759a8cd",
   "metadata": {},
   "outputs": [],
   "source": [
    "def get_movie_output(text):\n",
    "    global movie\n",
    "    movie1 = get_movie_df()\n",
    "    model = cached_model()\n",
    "    embedding = model.encode(text)\n",
    "    movie1['similarity'] = movie['embedding'].map(lambda x: cosine_similarity([embedding], [x]).squeeze())\n",
    "    answer = movie.loc[movie1['similarity'].idxmax()]\n",
    "    return answer[0]"
   ]
  },
  {
   "cell_type": "code",
   "execution_count": 17,
   "id": "86324034",
   "metadata": {},
   "outputs": [],
   "source": [
    "def handle(msg): # 챗봇 다루는 함수\n",
    "    content_type, chat_type, chat_id, msg_date, msg_id=telepot.glance(msg, long=True)\n",
    "    \n",
    "    first_msg = '안녕하세요! 저는 여러분의 일기 메이트 챗봇이에요.\\n오늘 하루 어떠셨나요? 오늘 있었던 일을 말해줄래요?\\n노래, 책 또는 영화를 추천할게요.'\n",
    "    music_output_msg = '이 노래를 들어보세요.\\n\\n'\n",
    "    book_output_msg = '이 책을 읽어보세요.\\n\\n'\n",
    "    movie_output_msg = '이 영화를 추천할게요.\\n\\n'\n",
    "    \n",
    "    num = random.randrange(1, 4)\n",
    "    \n",
    "    if content_type !='text':\n",
    "        bot.sendMessage('제가 이해할 수 없는 말이에요.')\n",
    "    print(msg)\n",
    "    \n",
    "    if msg['text']=='/start':\n",
    "        bot.sendMessage(chat_id, first_msg)\n",
    "    else:\n",
    "        if num == 1:\n",
    "            music=get_music_output(msg['text'])\n",
    "            bot.sendMessage(chat_id, music_output_msg+str(music))\n",
    "        elif num == 2:\n",
    "            book=get_book_output(msg['text'])\n",
    "            bot.sendMessage(chat_id, book_output_msg+'<'+str(book)+'>')\n",
    "        elif num == 3:\n",
    "            movie=get_movie_output(msg['text'])\n",
    "            bot.sendMessage(chat_id, movie_output_msg+'<'+str(movie)+'>')"
   ]
  },
  {
   "cell_type": "code",
   "execution_count": null,
   "id": "0e288b89",
   "metadata": {},
   "outputs": [
    {
     "name": "stdout",
     "output_type": "stream",
     "text": [
      "{'message_id': 175, 'from': {'id': 5590579656, 'is_bot': False, 'first_name': 'yoon', 'last_name': 'soorim', 'language_code': 'ko'}, 'chat': {'id': 5590579656, 'first_name': 'yoon', 'last_name': 'soorim', 'type': 'private'}, 'date': 1660121889, 'text': '파티에 가서 신나게 놀았어. 기분이 너무 좋고 즐거워!'}\n"
     ]
    },
    {
     "name": "stderr",
     "output_type": "stream",
     "text": [
      "2022-08-10 17:58:10.532 INFO    sentence_transformers.SentenceTransformer: Load pretrained SentenceTransformer: jhgan/ko-sroberta-multitask\n",
      "2022-08-10 17:58:14.829 INFO    sentence_transformers.SentenceTransformer: Use pytorch device: cpu\n"
     ]
    },
    {
     "data": {
      "application/vnd.jupyter.widget-view+json": {
       "model_id": "f6c8936cef8f41a8bf79274de9f3048d",
       "version_major": 2,
       "version_minor": 0
      },
      "text/plain": [
       "Batches:   0%|          | 0/1 [00:00<?, ?it/s]"
      ]
     },
     "metadata": {},
     "output_type": "display_data"
    },
    {
     "name": "stdout",
     "output_type": "stream",
     "text": [
      "{'message_id': 177, 'from': {'id': 5590579656, 'is_bot': False, 'first_name': 'yoon', 'last_name': 'soorim', 'language_code': 'ko'}, 'chat': {'id': 5590579656, 'first_name': 'yoon', 'last_name': 'soorim', 'type': 'private'}, 'date': 1660121900, 'text': '파티에 가서 신나게 놀았어. 기분이 너무 좋고 즐거워!'}\n"
     ]
    },
    {
     "name": "stderr",
     "output_type": "stream",
     "text": [
      "2022-08-10 17:58:20.591 INFO    sentence_transformers.SentenceTransformer: Load pretrained SentenceTransformer: jhgan/ko-sroberta-multitask\n",
      "2022-08-10 17:58:24.288 INFO    sentence_transformers.SentenceTransformer: Use pytorch device: cpu\n"
     ]
    },
    {
     "data": {
      "application/vnd.jupyter.widget-view+json": {
       "model_id": "4ff2a0c7e6524e269189e75f9d0c3cf8",
       "version_major": 2,
       "version_minor": 0
      },
      "text/plain": [
       "Batches:   0%|          | 0/1 [00:00<?, ?it/s]"
      ]
     },
     "metadata": {},
     "output_type": "display_data"
    },
    {
     "name": "stdout",
     "output_type": "stream",
     "text": [
      "{'message_id': 179, 'from': {'id': 5590579656, 'is_bot': False, 'first_name': 'yoon', 'last_name': 'soorim', 'language_code': 'ko'}, 'chat': {'id': 5590579656, 'first_name': 'yoon', 'last_name': 'soorim', 'type': 'private'}, 'date': 1660121907, 'text': '파티에 가서 신나게 놀았어. 기분이 너무 좋고 즐거워!'}\n"
     ]
    },
    {
     "name": "stderr",
     "output_type": "stream",
     "text": [
      "2022-08-10 17:58:28.522 INFO    sentence_transformers.SentenceTransformer: Load pretrained SentenceTransformer: jhgan/ko-sroberta-multitask\n",
      "2022-08-10 17:58:32.036 INFO    sentence_transformers.SentenceTransformer: Use pytorch device: cpu\n"
     ]
    },
    {
     "data": {
      "application/vnd.jupyter.widget-view+json": {
       "model_id": "bc615633e0414b61bcc2c63b25ee41f6",
       "version_major": 2,
       "version_minor": 0
      },
      "text/plain": [
       "Batches:   0%|          | 0/1 [00:00<?, ?it/s]"
      ]
     },
     "metadata": {},
     "output_type": "display_data"
    },
    {
     "name": "stdout",
     "output_type": "stream",
     "text": [
      "{'message_id': 181, 'from': {'id': 5590579656, 'is_bot': False, 'first_name': 'yoon', 'last_name': 'soorim', 'language_code': 'ko'}, 'chat': {'id': 5590579656, 'first_name': 'yoon', 'last_name': 'soorim', 'type': 'private'}, 'date': 1660121919, 'text': '하루종일 비가 왔어. 기분이 울적해'}\n"
     ]
    },
    {
     "name": "stderr",
     "output_type": "stream",
     "text": [
      "2022-08-10 17:58:40.435 INFO    sentence_transformers.SentenceTransformer: Load pretrained SentenceTransformer: jhgan/ko-sroberta-multitask\n",
      "2022-08-10 17:58:43.884 INFO    sentence_transformers.SentenceTransformer: Use pytorch device: cpu\n"
     ]
    },
    {
     "data": {
      "application/vnd.jupyter.widget-view+json": {
       "model_id": "bc27092f85094f90986b26865f46e10e",
       "version_major": 2,
       "version_minor": 0
      },
      "text/plain": [
       "Batches:   0%|          | 0/1 [00:00<?, ?it/s]"
      ]
     },
     "metadata": {},
     "output_type": "display_data"
    },
    {
     "name": "stdout",
     "output_type": "stream",
     "text": [
      "{'message_id': 183, 'from': {'id': 5590579656, 'is_bot': False, 'first_name': 'yoon', 'last_name': 'soorim', 'language_code': 'ko'}, 'chat': {'id': 5590579656, 'first_name': 'yoon', 'last_name': 'soorim', 'type': 'private'}, 'date': 1660121938, 'text': '비가 내렸는데 조금 맞았거든. 근데 즐거웠어!'}\n"
     ]
    },
    {
     "name": "stderr",
     "output_type": "stream",
     "text": [
      "2022-08-10 17:58:59.606 INFO    sentence_transformers.SentenceTransformer: Load pretrained SentenceTransformer: jhgan/ko-sroberta-multitask\n",
      "2022-08-10 17:59:03.297 INFO    sentence_transformers.SentenceTransformer: Use pytorch device: cpu\n"
     ]
    },
    {
     "data": {
      "application/vnd.jupyter.widget-view+json": {
       "model_id": "06ce2f5ef49a4100bb5c68c150b1b571",
       "version_major": 2,
       "version_minor": 0
      },
      "text/plain": [
       "Batches:   0%|          | 0/1 [00:00<?, ?it/s]"
      ]
     },
     "metadata": {},
     "output_type": "display_data"
    },
    {
     "name": "stdout",
     "output_type": "stream",
     "text": [
      "{'message_id': 185, 'from': {'id': 5590579656, 'is_bot': False, 'first_name': 'yoon', 'last_name': 'soorim', 'language_code': 'ko'}, 'chat': {'id': 5590579656, 'first_name': 'yoon', 'last_name': 'soorim', 'type': 'private'}, 'date': 1660121958, 'text': '파티에 가서 신나게 놀았어. 기분이 너무 좋고 즐거워!'}\n"
     ]
    },
    {
     "name": "stderr",
     "output_type": "stream",
     "text": [
      "2022-08-10 17:59:30.660 INFO    sentence_transformers.SentenceTransformer: Load pretrained SentenceTransformer: jhgan/ko-sroberta-multitask\n",
      "2022-08-10 17:59:34.248 INFO    sentence_transformers.SentenceTransformer: Use pytorch device: cpu\n"
     ]
    },
    {
     "data": {
      "application/vnd.jupyter.widget-view+json": {
       "model_id": "98262882c1c04cccadadec87e1b45123",
       "version_major": 2,
       "version_minor": 0
      },
      "text/plain": [
       "Batches:   0%|          | 0/1 [00:00<?, ?it/s]"
      ]
     },
     "metadata": {},
     "output_type": "display_data"
    }
   ],
   "source": [
    "bot=telepot.Bot('5471678903:AAEjK2HkkqOvpl7tI0yt8ojInNykRXGTu1Y')\n",
    "MessageLoop(bot, handle).run_forever()"
   ]
  },
  {
   "cell_type": "code",
   "execution_count": null,
   "id": "d43d5fdf",
   "metadata": {},
   "outputs": [],
   "source": []
  }
 ],
 "metadata": {
  "kernelspec": {
   "display_name": "Python 3 (ipykernel)",
   "language": "python",
   "name": "python3"
  },
  "language_info": {
   "codemirror_mode": {
    "name": "ipython",
    "version": 3
   },
   "file_extension": ".py",
   "mimetype": "text/x-python",
   "name": "python",
   "nbconvert_exporter": "python",
   "pygments_lexer": "ipython3",
   "version": "3.9.7"
  }
 },
 "nbformat": 4,
 "nbformat_minor": 5
}
